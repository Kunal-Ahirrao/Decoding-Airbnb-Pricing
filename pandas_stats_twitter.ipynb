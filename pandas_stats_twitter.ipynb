{
  "nbformat": 4,
  "nbformat_minor": 0,
  "metadata": {
    "colab": {
      "provenance": [],
      "authorship_tag": "ABX9TyPLFVEI/NeCkcD73HtwuAZc",
      "include_colab_link": true
    },
    "kernelspec": {
      "name": "python3",
      "display_name": "Python 3"
    },
    "language_info": {
      "name": "python"
    }
  },
  "cells": [
    {
      "cell_type": "markdown",
      "metadata": {
        "id": "view-in-github",
        "colab_type": "text"
      },
      "source": [
        "<a href=\"https://colab.research.google.com/github/Kunal-Ahirrao/Decoding-Airbnb-Pricing/blob/main/pandas_stats_twitter.ipynb\" target=\"_parent\"><img src=\"https://colab.research.google.com/assets/colab-badge.svg\" alt=\"Open In Colab\"/></a>"
      ]
    },
    {
      "cell_type": "code",
      "source": [
        "import pandas as pd\n",
        "\n",
        "# Load the dataset\n",
        "df = pd.read_csv(\"/content/2024_tw_posts_president_scored_anon.csv\")\n",
        "\n",
        "# Display columns (optional)\n",
        "print(\"Dataset Columns:\")\n",
        "for idx, col in enumerate(df.columns):\n",
        "    print(f\"{idx}: '{col}'\")\n",
        "\n",
        "# Clean commas from numeric-looking strings\n",
        "for col in df.columns:\n",
        "    if df[col].dtype == 'object':\n",
        "        try:\n",
        "            df[col] = df[col].str.replace(\",\", \"\")\n",
        "            df[col] = pd.to_numeric(df[col], errors='ignore')\n",
        "        except Exception:\n",
        "            continue\n",
        "\n",
        "# Auto-detect numeric columns\n",
        "numeric_cols = df.select_dtypes(include='number').columns.tolist()\n",
        "\n",
        "# Prepare output\n",
        "output_lines = []\n",
        "\n",
        "# === Column Types ===\n",
        "output_lines.append(\"=== Column Types ===\")\n",
        "output_lines.extend([f\"{col}: {dtype}\" for col, dtype in df.dtypes.items()])\n",
        "output_lines.append(\"\\n\")\n",
        "\n",
        "# === Basic Stats ===\n",
        "output_lines.append(\"=== Basic Descriptive Stats ===\")\n",
        "output_lines.append(df[numeric_cols].describe().to_string())\n",
        "output_lines.append(\"\\n\")\n",
        "\n",
        "# === Grouped by account_type ===\n",
        "if \"account_type\" in df.columns:\n",
        "    output_lines.append(\"=== Grouped by account_type (Mean Only, Top 10) ===\")\n",
        "    group1 = df.groupby(\"account_type\")[numeric_cols].mean().head(10)\n",
        "    output_lines.append(group1.to_string())\n",
        "    output_lines.append(\"\\n\")\n",
        "else:\n",
        "    output_lines.append(\"Column 'account_type' not found — skipping group.\\n\")\n",
        "\n",
        "# === Grouped by account_id and post_id ===\n",
        "if \"account_id\" in df.columns and \"post_id\" in df.columns:\n",
        "    output_lines.append(\"=== Grouped by account_id and post_id (Mean Only, Top 10) ===\")\n",
        "    group2 = df.groupby([\"account_id\", \"post_id\"])[numeric_cols].mean().head(10)\n",
        "    output_lines.append(group2.to_string())\n",
        "    output_lines.append(\"\\n\")\n",
        "else:\n",
        "    output_lines.append(\"Missing 'account_id' or 'post_id' — skipping group.\\n\")\n",
        "\n",
        "# Save to file\n",
        "with open(\"pandas_output_twitter.txt\", \"w\", encoding=\"utf-8\") as f:\n",
        "    f.write(\"\\n\".join(output_lines))\n",
        "\n",
        "print(\"✅ pandas_output_twitter.txt saved.\")\n"
      ],
      "metadata": {
        "colab": {
          "base_uri": "https://localhost:8080/"
        },
        "id": "PBXHsmi7Vu-K",
        "outputId": "edc3b96f-be85-4959-cc3c-43d53074b21a"
      },
      "execution_count": 22,
      "outputs": [
        {
          "output_type": "stream",
          "name": "stdout",
          "text": [
            "Dataset Columns:\n",
            "0: 'id'\n",
            "1: 'url'\n",
            "2: 'source'\n",
            "3: 'retweetCount'\n",
            "4: 'replyCount'\n",
            "5: 'likeCount'\n",
            "6: 'quoteCount'\n",
            "7: 'viewCount'\n",
            "8: 'createdAt'\n",
            "9: 'lang'\n",
            "10: 'bookmarkCount'\n",
            "11: 'isReply'\n",
            "12: 'isRetweet'\n",
            "13: 'isQuote'\n",
            "14: 'isConversationControlled'\n",
            "15: 'quoteId'\n",
            "16: 'inReplyToId'\n",
            "17: 'month_year'\n",
            "18: 'illuminating_scored_message'\n",
            "19: 'election_integrity_Truth_illuminating'\n",
            "20: 'advocacy_msg_type_illuminating'\n",
            "21: 'issue_msg_type_illuminating'\n",
            "22: 'attack_msg_type_illuminating'\n",
            "23: 'image_msg_type_illuminating'\n",
            "24: 'cta_msg_type_illuminating'\n",
            "25: 'engagement_cta_subtype_illuminating'\n",
            "26: 'fundraising_cta_subtype_illuminating'\n",
            "27: 'voting_cta_subtype_illuminating'\n",
            "28: 'covid_topic_illuminating'\n",
            "29: 'economy_topic_illuminating'\n",
            "30: 'education_topic_illuminating'\n",
            "31: 'environment_topic_illuminating'\n",
            "32: 'foreign_policy_topic_illuminating'\n",
            "33: 'governance_topic_illuminating'\n",
            "34: 'health_topic_illuminating'\n",
            "35: 'immigration_topic_illuminating'\n",
            "36: 'lgbtq_issues_topic_illuminating'\n",
            "37: 'military_topic_illuminating'\n",
            "38: 'race_and_ethnicity_topic_illuminating'\n",
            "39: 'safety_topic_illuminating'\n",
            "40: 'social_and_cultural_topic_illuminating'\n",
            "41: 'technology_and_privacy_topic_illuminating'\n",
            "42: 'womens_issue_topic_illuminating'\n",
            "43: 'incivility_illuminating'\n",
            "44: 'scam_illuminating'\n",
            "45: 'freefair_illuminating'\n",
            "46: 'fraud_illuminating'\n",
            "✅ pandas_output_twitter.txt saved.\n"
          ]
        },
        {
          "output_type": "stream",
          "name": "stderr",
          "text": [
            "/tmp/ipython-input-22-1151672139.py:16: FutureWarning: errors='ignore' is deprecated and will raise in a future version. Use to_numeric without passing `errors` and catch exceptions explicitly instead\n",
            "  df[col] = pd.to_numeric(df[col], errors='ignore')\n"
          ]
        }
      ]
    }
  ]
}